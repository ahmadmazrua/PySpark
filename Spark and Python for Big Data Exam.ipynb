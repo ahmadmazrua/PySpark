{
 "cells": [
  {
   "cell_type": "markdown",
   "id": "e68a66c5",
   "metadata": {
    "id": "abbf1e33"
   },
   "source": [
    "##### **Good luck with taking your exam. Keep working and make your dreams all come true. Seeing the results of all of your hard work will make this struggle worth it. We’re all thinking of you.** \n",
    "<b><font color='blue'>AI-PRO Spark Team ITI</font></b>"
   ]
  },
  {
   "cell_type": "markdown",
   "id": "8eaa04b4",
   "metadata": {
    "id": "8326ba88"
   },
   "source": [
    "## Objective:\n",
    "- The objective from this project is to create a <b>Logistic Regression Classifier</b> to predict the <b>Stroke Condition</b>.\n",
    "- <b>Stoke</b> is a condition in which either the blood flow to the brain stops or blood flow is excessive.\n",
    "- It is required to obtain <b>ROC > 0.65</b>."
   ]
  },
  {
   "cell_type": "markdown",
   "id": "15f2104f",
   "metadata": {
    "id": "0eb78c16"
   },
   "source": [
    "### Data:\n",
    "- Data is provided in csv format in a file named <b>healthcare-dataset-stroke-data.csv</b>"
   ]
  },
  {
   "cell_type": "markdown",
   "id": "a8649566",
   "metadata": {
    "id": "7c842b79"
   },
   "source": [
    "### Column names and data types are as follow:\n",
    "- id, integer.\n",
    "- gender, string.\n",
    "- age, double.\n",
    "- hypertension, integer.\n",
    "- heart_disease, integer.\n",
    "- ever_married, string.\n",
    "- work_type, string.\n",
    "- Residence_type, string.\n",
    "- avg_glucose_level, double.\n",
    "- bmi, double.\n",
    "- smoking_status, string.\n",
    "- stroke, integer <b>(Target Label)</b>.\n",
    "If the person has stroke the stroke label value is <b>\"1\"</b> otherwise <b>\"0\"</b>."
   ]
  },
  {
   "cell_type": "markdown",
   "id": "2e89e24e",
   "metadata": {
    "id": "6971f788"
   },
   "source": [
    "## To perform this task follow the following guiding steps:"
   ]
  },
  {
   "cell_type": "markdown",
   "id": "88253841",
   "metadata": {
    "id": "e31bc851"
   },
   "source": [
    "### Create a spark session and import the required libraries"
   ]
  },
  {
   "cell_type": "code",
   "execution_count": null,
   "id": "835454f4",
   "metadata": {
    "id": "ab3ba311"
   },
   "outputs": [],
   "source": [
    "!pwd\n",
    "! wget https://archive.apache.org/dist/spark/spark-3.0.1/spark-3.0.1-bin-hadoop3.2.tgz\n",
    "!tar -xvzf spark-3.0.1-bin-hadoop3.2.tgz\n",
    "!pip install findspark"
   ]
  },
  {
   "cell_type": "code",
   "execution_count": 1,
   "id": "ace096a8",
   "metadata": {
    "executionInfo": {
     "elapsed": 49,
     "status": "ok",
     "timestamp": 1635949415298,
     "user": {
      "displayName": "Mahmoud mohey el-din",
      "photoUrl": "https://lh3.googleusercontent.com/a/default-user=s64",
      "userId": "13699406433670243851"
     },
     "user_tz": -120
    },
    "id": "-Hk58E2xsZ0a"
   },
   "outputs": [],
   "source": [
    "import os\n",
    "import findspark\n",
    "\n",
    "# os.environ[\"SPARK_HOME\"] = \"/content/spark-3.0.1-bin-hadoop3.2\"\n",
    "findspark.init()"
   ]
  },
  {
   "cell_type": "code",
   "execution_count": 2,
   "id": "b3afe2bc",
   "metadata": {
    "executionInfo": {
     "elapsed": 46,
     "status": "ok",
     "timestamp": 1635949415299,
     "user": {
      "displayName": "Mahmoud mohey el-din",
      "photoUrl": "https://lh3.googleusercontent.com/a/default-user=s64",
      "userId": "13699406433670243851"
     },
     "user_tz": -120
    },
    "id": "5I5Ul4t-sdEH"
   },
   "outputs": [],
   "source": [
    "from pyspark.sql import SparkSession\n",
    "import pyspark.sql.functions as f"
   ]
  },
  {
   "cell_type": "code",
   "execution_count": 3,
   "id": "3379d15a",
   "metadata": {
    "executionInfo": {
     "elapsed": 45,
     "status": "ok",
     "timestamp": 1635949415301,
     "user": {
      "displayName": "Mahmoud mohey el-din",
      "photoUrl": "https://lh3.googleusercontent.com/a/default-user=s64",
      "userId": "13699406433670243851"
     },
     "user_tz": -120
    },
    "id": "O8eRuFX_sfSt"
   },
   "outputs": [],
   "source": [
    "spark = SparkSession.builder.appName('practical').getOrCreate()"
   ]
  },
  {
   "cell_type": "markdown",
   "id": "47bac896",
   "metadata": {
    "id": "843b8468"
   },
   "source": [
    "### Create a data schema programatically"
   ]
  },
  {
   "cell_type": "code",
   "execution_count": 10,
   "id": "4de22d96",
   "metadata": {
    "executionInfo": {
     "elapsed": 42,
     "status": "ok",
     "timestamp": 1635949415301,
     "user": {
      "displayName": "Mahmoud mohey el-din",
      "photoUrl": "https://lh3.googleusercontent.com/a/default-user=s64",
      "userId": "13699406433670243851"
     },
     "user_tz": -120
    },
    "id": "8616fe16"
   },
   "outputs": [],
   "source": [
    "from pyspark.sql.types import StructType,StructField, StringType, IntegerType, FloatType\n",
    "schema = StructType([ \\\n",
    "    StructField(\"id\",IntegerType()), \\\n",
    "    StructField(\"gender\",StringType()), \\\n",
    "    StructField(\"age\",FloatType()), \\\n",
    "    StructField(\"hypertension\", IntegerType()), \\\n",
    "    StructField(\"heart_disease\", IntegerType()), \\\n",
    "    StructField(\"ever_married\", StringType()), \\\n",
    "    StructField(\"work_type\", StringType()), \\\n",
    "    StructField(\"Residence_type\", StringType()), \\\n",
    "    StructField(\"avg_glucose_level\", FloatType()), \\\n",
    "    StructField(\"bmi\", FloatType()), \\\n",
    "    StructField(\"smoking_status\", StringType()), \\\n",
    "    StructField(\"stroke\", IntegerType()) \\\n",
    "  ])\n",
    " "
   ]
  },
  {
   "cell_type": "markdown",
   "id": "02836ff0",
   "metadata": {
    "id": "2d00718f"
   },
   "source": [
    "### Read the data using the standard DataReader (Key,Value) pairs format\n",
    "- Provide the schema and any other required options."
   ]
  },
  {
   "cell_type": "code",
   "execution_count": 11,
   "id": "05b43554",
   "metadata": {
    "executionInfo": {
     "elapsed": 42,
     "status": "ok",
     "timestamp": 1635949415303,
     "user": {
      "displayName": "Mahmoud mohey el-din",
      "photoUrl": "https://lh3.googleusercontent.com/a/default-user=s64",
      "userId": "13699406433670243851"
     },
     "user_tz": -120
    },
    "id": "61fcc4cd"
   },
   "outputs": [],
   "source": [
    "df = spark.read.csv('healthcare-dataset-stroke-data.csv', schema=schema, header=True)"
   ]
  },
  {
   "cell_type": "markdown",
   "id": "7bb1618c",
   "metadata": {
    "id": "974bc193"
   },
   "source": [
    "### Explore the data \n",
    "#### You have to do the following:\n",
    "- Print the Schema.\n",
    "- Show the first 10 rows from the data.\n",
    "- Explore null values and show how many null values in each column.\n",
    "- Plot a count plot for the target label and <b>notice the graph</b>.\n",
    "- Perform any additional EDA you find useful."
   ]
  },
  {
   "cell_type": "code",
   "execution_count": 21,
   "id": "b658a6da",
   "metadata": {
    "colab": {
     "base_uri": "https://localhost:8080/"
    },
    "executionInfo": {
     "elapsed": 42,
     "status": "ok",
     "timestamp": 1635949415304,
     "user": {
      "displayName": "Mahmoud mohey el-din",
      "photoUrl": "https://lh3.googleusercontent.com/a/default-user=s64",
      "userId": "13699406433670243851"
     },
     "user_tz": -120
    },
    "id": "353b6f34",
    "outputId": "f2265163-3f66-44ba-e588-8a513d178d8e",
    "scrolled": true
   },
   "outputs": [
    {
     "name": "stdout",
     "output_type": "stream",
     "text": [
      "root\n",
      " |-- id: integer (nullable = true)\n",
      " |-- gender: string (nullable = true)\n",
      " |-- age: float (nullable = true)\n",
      " |-- hypertension: integer (nullable = true)\n",
      " |-- heart_disease: integer (nullable = true)\n",
      " |-- ever_married: string (nullable = true)\n",
      " |-- work_type: string (nullable = true)\n",
      " |-- Residence_type: string (nullable = true)\n",
      " |-- avg_glucose_level: float (nullable = true)\n",
      " |-- bmi: float (nullable = true)\n",
      " |-- smoking_status: string (nullable = true)\n",
      " |-- stroke: integer (nullable = true)\n",
      "\n"
     ]
    }
   ],
   "source": [
    "df.printSchema()"
   ]
  },
  {
   "cell_type": "code",
   "execution_count": 22,
   "id": "01df4e11",
   "metadata": {
    "colab": {
     "base_uri": "https://localhost:8080/"
    },
    "executionInfo": {
     "elapsed": 29,
     "status": "ok",
     "timestamp": 1635949415306,
     "user": {
      "displayName": "Mahmoud mohey el-din",
      "photoUrl": "https://lh3.googleusercontent.com/a/default-user=s64",
      "userId": "13699406433670243851"
     },
     "user_tz": -120
    },
    "id": "6fb198f0",
    "outputId": "ed748675-7e79-44d1-904c-c91153645eea"
   },
   "outputs": [
    {
     "data": {
      "text/plain": [
       "[Row(id=9046, gender='Male', age=67.0, hypertension=0, heart_disease=1, ever_married='Yes', work_type='Private', Residence_type='Urban', avg_glucose_level=228.69000244140625, bmi=36.599998474121094, smoking_status='formerly smoked', stroke=1),\n",
       " Row(id=51676, gender='Female', age=61.0, hypertension=0, heart_disease=0, ever_married='Yes', work_type='Self-employed', Residence_type='Rural', avg_glucose_level=202.2100067138672, bmi=None, smoking_status='never smoked', stroke=1),\n",
       " Row(id=31112, gender='Male', age=80.0, hypertension=0, heart_disease=1, ever_married='Yes', work_type='Private', Residence_type='Rural', avg_glucose_level=105.91999816894531, bmi=32.5, smoking_status='never smoked', stroke=1),\n",
       " Row(id=60182, gender='Female', age=49.0, hypertension=0, heart_disease=0, ever_married='Yes', work_type='Private', Residence_type='Urban', avg_glucose_level=171.22999572753906, bmi=34.400001525878906, smoking_status='smokes', stroke=1),\n",
       " Row(id=1665, gender='Female', age=79.0, hypertension=1, heart_disease=0, ever_married='Yes', work_type='Self-employed', Residence_type='Rural', avg_glucose_level=174.1199951171875, bmi=24.0, smoking_status='never smoked', stroke=1),\n",
       " Row(id=56669, gender='Male', age=81.0, hypertension=0, heart_disease=0, ever_married='Yes', work_type='Private', Residence_type='Urban', avg_glucose_level=186.2100067138672, bmi=29.0, smoking_status='formerly smoked', stroke=1),\n",
       " Row(id=53882, gender='Male', age=74.0, hypertension=1, heart_disease=1, ever_married='Yes', work_type='Private', Residence_type='Rural', avg_glucose_level=70.08999633789062, bmi=27.399999618530273, smoking_status='never smoked', stroke=1),\n",
       " Row(id=10434, gender='Female', age=69.0, hypertension=0, heart_disease=0, ever_married='No', work_type='Private', Residence_type='Urban', avg_glucose_level=94.38999938964844, bmi=22.799999237060547, smoking_status='never smoked', stroke=1),\n",
       " Row(id=27419, gender='Female', age=59.0, hypertension=0, heart_disease=0, ever_married='Yes', work_type='Private', Residence_type='Rural', avg_glucose_level=76.1500015258789, bmi=None, smoking_status='Unknown', stroke=1),\n",
       " Row(id=60491, gender='Female', age=78.0, hypertension=0, heart_disease=0, ever_married='Yes', work_type='Private', Residence_type='Urban', avg_glucose_level=58.56999969482422, bmi=24.200000762939453, smoking_status='Unknown', stroke=1)]"
      ]
     },
     "execution_count": 22,
     "metadata": {},
     "output_type": "execute_result"
    }
   ],
   "source": [
    "df.head(10)"
   ]
  },
  {
   "cell_type": "code",
   "execution_count": 27,
   "id": "c0d81d90",
   "metadata": {
    "colab": {
     "base_uri": "https://localhost:8080/"
    },
    "executionInfo": {
     "elapsed": 591,
     "status": "ok",
     "timestamp": 1635949415877,
     "user": {
      "displayName": "Mahmoud mohey el-din",
      "photoUrl": "https://lh3.googleusercontent.com/a/default-user=s64",
      "userId": "13699406433670243851"
     },
     "user_tz": -120
    },
    "id": "NNt2xlLNvuOv",
    "outputId": "560e216b-eca0-49e6-b24d-85492249a7c7",
    "scrolled": true
   },
   "outputs": [
    {
     "name": "stdout",
     "output_type": "stream",
     "text": [
      "+---+------+---+------------+-------------+------------+---------+--------------+-----------------+---+--------------+------+\n",
      "| id|gender|age|hypertension|heart_disease|ever_married|work_type|Residence_type|avg_glucose_level|bmi|smoking_status|stroke|\n",
      "+---+------+---+------------+-------------+------------+---------+--------------+-----------------+---+--------------+------+\n",
      "|  0|     0|  0|           0|            0|           0|        0|             0|                0|201|             0|     0|\n",
      "+---+------+---+------------+-------------+------------+---------+--------------+-----------------+---+--------------+------+\n",
      "\n"
     ]
    }
   ],
   "source": [
    "temp_df = df.select([f.count(f.when(f.isnan(col) | f.col(col).isNull(), col)).alias(col) for col in df.columns])\n",
    "temp_df.show()"
   ]
  },
  {
   "cell_type": "code",
   "execution_count": 28,
   "id": "be4caaf9",
   "metadata": {
    "colab": {
     "base_uri": "https://localhost:8080/"
    },
    "executionInfo": {
     "elapsed": 25,
     "status": "ok",
     "timestamp": 1635949416347,
     "user": {
      "displayName": "Mahmoud mohey el-din",
      "photoUrl": "https://lh3.googleusercontent.com/a/default-user=s64",
      "userId": "13699406433670243851"
     },
     "user_tz": -120
    },
    "id": "ZjkD7600waQ7",
    "outputId": "5c19097b-f9e8-483d-e965-01571926f389"
   },
   "outputs": [
    {
     "name": "stdout",
     "output_type": "stream",
     "text": [
      "(5110, 12)\n"
     ]
    }
   ],
   "source": [
    "print((df.count(), len(df.columns)))"
   ]
  },
  {
   "cell_type": "code",
   "execution_count": 15,
   "id": "142afed2",
   "metadata": {
    "executionInfo": {
     "elapsed": 17,
     "status": "ok",
     "timestamp": 1635949416348,
     "user": {
      "displayName": "Mahmoud mohey el-din",
      "photoUrl": "https://lh3.googleusercontent.com/a/default-user=s64",
      "userId": "13699406433670243851"
     },
     "user_tz": -120
    },
    "id": "FCG5I_c9xGn1"
   },
   "outputs": [],
   "source": [
    "not_stroke_count = df.filter(df['stroke'] == 0).count()\n",
    "stroke_count = df.count() - not_stroke_count"
   ]
  },
  {
   "cell_type": "code",
   "execution_count": 16,
   "id": "49731ecc",
   "metadata": {
    "colab": {
     "base_uri": "https://localhost:8080/",
     "height": 354
    },
    "executionInfo": {
     "elapsed": 1095,
     "status": "ok",
     "timestamp": 1635949958088,
     "user": {
      "displayName": "Mahmoud mohey el-din",
      "photoUrl": "https://lh3.googleusercontent.com/a/default-user=s64",
      "userId": "13699406433670243851"
     },
     "user_tz": -120
    },
    "id": "16Hf9FSKwr1L",
    "outputId": "6512d9c9-4893-44cf-a48a-52dd96d3aa6d"
   },
   "outputs": [
    {
     "name": "stderr",
     "output_type": "stream",
     "text": [
      "E:\\Anaconda3\\lib\\site-packages\\seaborn\\_decorators.py:43: FutureWarning: Pass the following variable as a keyword arg: x. From version 0.12, the only valid positional argument will be `data`, and passing other arguments without an explicit keyword will result in an error or misinterpretation.\n",
      "  FutureWarning\n"
     ]
    },
    {
     "data": {
      "text/plain": [
       "[Text(0.5, 0, 'Stroke'), Text(0, 0.5, 'Count')]"
      ]
     },
     "execution_count": 16,
     "metadata": {},
     "output_type": "execute_result"
    },
    {
     "data": {
      "image/png": "[encoded data removed]",
      "text/plain": [
       "<Figure size 432x288 with 1 Axes>"
      ]
     },
     "metadata": {
      "needs_background": "light"
     },
     "output_type": "display_data"
    }
   ],
   "source": [
    "import seaborn as sns\n",
    "ax = sns.barplot([0,1], y= [not_stroke_count, stroke_count])\n",
    "ax.set(xlabel=\"Stroke\", ylabel = \"Count\")"
   ]
  },
  {
   "cell_type": "markdown",
   "id": "14842f07",
   "metadata": {
    "id": "59b770cb"
   },
   "source": [
    "### Get the summary statistics of the age column\n",
    "- You will find the minimum age is about <b>0.08</b>.\n",
    "- Remove rows for the age below <b>2 years old</b>."
   ]
  },
  {
   "cell_type": "code",
   "execution_count": 18,
   "id": "c2f4c225",
   "metadata": {},
   "outputs": [
    {
     "name": "stdout",
     "output_type": "stream",
     "text": [
      "+-------+-----------------+\n",
      "|summary|              age|\n",
      "+-------+-----------------+\n",
      "|  count|             5110|\n",
      "|   mean|43.22661448143525|\n",
      "| stddev|22.61264672306245|\n",
      "|    min|             0.08|\n",
      "|    25%|             25.0|\n",
      "|    50%|             45.0|\n",
      "|    75%|             61.0|\n",
      "|    max|             82.0|\n",
      "+-------+-----------------+\n",
      "\n"
     ]
    }
   ],
   "source": [
    "df.select(['age']).summary().show()"
   ]
  },
  {
   "cell_type": "code",
   "execution_count": 255,
   "id": "f943ab4a",
   "metadata": {
    "colab": {
     "base_uri": "https://localhost:8080/"
    },
    "executionInfo": {
     "elapsed": 679,
     "status": "ok",
     "timestamp": 1635949417786,
     "user": {
      "displayName": "Mahmoud mohey el-din",
      "photoUrl": "https://lh3.googleusercontent.com/a/default-user=s64",
      "userId": "13699406433670243851"
     },
     "user_tz": -120
    },
    "id": "RcSfptYX14CT",
    "outputId": "4927a403-5394-4a9c-e69d-7b733a0a7027"
   },
   "outputs": [
    {
     "name": "stdout",
     "output_type": "stream",
     "text": [
      "+-----+------+----+------------+-------------+------------+-------------+--------------+-----------------+----+---------------+------+\n",
      "|   id|gender| age|hypertension|heart_disease|ever_married|    work_type|Residence_type|avg_glucose_level| bmi| smoking_status|stroke|\n",
      "+-----+------+----+------------+-------------+------------+-------------+--------------+-----------------+----+---------------+------+\n",
      "| 9046|  Male|67.0|           0|            1|         Yes|      Private|         Urban|           228.69|36.6|formerly smoked|     1|\n",
      "|51676|Female|61.0|           0|            0|         Yes|Self-employed|         Rural|           202.21|null|   never smoked|     1|\n",
      "|31112|  Male|80.0|           0|            1|         Yes|      Private|         Rural|           105.92|32.5|   never smoked|     1|\n",
      "|60182|Female|49.0|           0|            0|         Yes|      Private|         Urban|           171.23|34.4|         smokes|     1|\n",
      "| 1665|Female|79.0|           1|            0|         Yes|Self-employed|         Rural|           174.12|24.0|   never smoked|     1|\n",
      "|56669|  Male|81.0|           0|            0|         Yes|      Private|         Urban|           186.21|29.0|formerly smoked|     1|\n",
      "|53882|  Male|74.0|           1|            1|         Yes|      Private|         Rural|            70.09|27.4|   never smoked|     1|\n",
      "|10434|Female|69.0|           0|            0|          No|      Private|         Urban|            94.39|22.8|   never smoked|     1|\n",
      "|27419|Female|59.0|           0|            0|         Yes|      Private|         Rural|            76.15|null|        Unknown|     1|\n",
      "|60491|Female|78.0|           0|            0|         Yes|      Private|         Urban|            58.57|24.2|        Unknown|     1|\n",
      "|12109|Female|81.0|           1|            0|         Yes|      Private|         Rural|            80.43|29.7|   never smoked|     1|\n",
      "|12095|Female|61.0|           0|            1|         Yes|     Govt_job|         Rural|           120.46|36.8|         smokes|     1|\n",
      "|12175|Female|54.0|           0|            0|         Yes|      Private|         Urban|           104.51|27.3|         smokes|     1|\n",
      "| 8213|  Male|78.0|           0|            1|         Yes|      Private|         Urban|           219.84|null|        Unknown|     1|\n",
      "| 5317|Female|79.0|           0|            1|         Yes|      Private|         Urban|           214.09|28.2|   never smoked|     1|\n",
      "|58202|Female|50.0|           1|            0|         Yes|Self-employed|         Rural|           167.41|30.9|   never smoked|     1|\n",
      "|56112|  Male|64.0|           0|            1|         Yes|      Private|         Urban|           191.61|37.5|         smokes|     1|\n",
      "|34120|  Male|75.0|           1|            0|         Yes|      Private|         Urban|           221.29|25.8|         smokes|     1|\n",
      "|27458|Female|60.0|           0|            0|          No|      Private|         Urban|            89.22|37.8|   never smoked|     1|\n",
      "|25226|  Male|57.0|           0|            1|          No|     Govt_job|         Urban|           217.08|null|        Unknown|     1|\n",
      "+-----+------+----+------------+-------------+------------+-------------+--------------+-----------------+----+---------------+------+\n",
      "only showing top 20 rows\n",
      "\n"
     ]
    }
   ],
   "source": [
    "df.show()"
   ]
  },
  {
   "cell_type": "code",
   "execution_count": 256,
   "id": "b341fe5f",
   "metadata": {
    "executionInfo": {
     "elapsed": 16,
     "status": "ok",
     "timestamp": 1635949417788,
     "user": {
      "displayName": "Mahmoud mohey el-din",
      "photoUrl": "https://lh3.googleusercontent.com/a/default-user=s64",
      "userId": "13699406433670243851"
     },
     "user_tz": -120
    },
    "id": "cc99c0be"
   },
   "outputs": [],
   "source": [
    "df = df.filter(df['age'] >= 2)"
   ]
  },
  {
   "cell_type": "markdown",
   "id": "cafa3362",
   "metadata": {
    "id": "bf8c9498"
   },
   "source": [
    "### Working with gender & smoking_status columns:\n",
    "- Select and show the gender & smoking_status columns\n",
    "- Get the distinct values for each column."
   ]
  },
  {
   "cell_type": "code",
   "execution_count": 257,
   "id": "20193dfa",
   "metadata": {
    "colab": {
     "base_uri": "https://localhost:8080/"
    },
    "executionInfo": {
     "elapsed": 16,
     "status": "ok",
     "timestamp": 1635949417789,
     "user": {
      "displayName": "Mahmoud mohey el-din",
      "photoUrl": "https://lh3.googleusercontent.com/a/default-user=s64",
      "userId": "13699406433670243851"
     },
     "user_tz": -120
    },
    "id": "Smaxt2UP0juq",
    "outputId": "55c147be-f0d5-44bc-8845-be42610604cd"
   },
   "outputs": [
    {
     "name": "stdout",
     "output_type": "stream",
     "text": [
      "+------+---------------+\n",
      "|gender| smoking_status|\n",
      "+------+---------------+\n",
      "|  Male|formerly smoked|\n",
      "|Female|   never smoked|\n",
      "|  Male|   never smoked|\n",
      "|Female|         smokes|\n",
      "|Female|   never smoked|\n",
      "|  Male|formerly smoked|\n",
      "|  Male|   never smoked|\n",
      "|Female|   never smoked|\n",
      "|Female|        Unknown|\n",
      "|Female|        Unknown|\n",
      "|Female|   never smoked|\n",
      "|Female|         smokes|\n",
      "|Female|         smokes|\n",
      "|  Male|        Unknown|\n",
      "|Female|   never smoked|\n",
      "|Female|   never smoked|\n",
      "|  Male|         smokes|\n",
      "|  Male|         smokes|\n",
      "|Female|   never smoked|\n",
      "|  Male|        Unknown|\n",
      "+------+---------------+\n",
      "only showing top 20 rows\n",
      "\n"
     ]
    }
   ],
   "source": [
    "df.select('gender', 'smoking_status').show()"
   ]
  },
  {
   "cell_type": "code",
   "execution_count": 258,
   "id": "b36f1559",
   "metadata": {
    "colab": {
     "base_uri": "https://localhost:8080/"
    },
    "executionInfo": {
     "elapsed": 1241,
     "status": "ok",
     "timestamp": 1635949419020,
     "user": {
      "displayName": "Mahmoud mohey el-din",
      "photoUrl": "https://lh3.googleusercontent.com/a/default-user=s64",
      "userId": "13699406433670243851"
     },
     "user_tz": -120
    },
    "id": "tATz8kUh2ZyN",
    "outputId": "9a6a2399-3d60-41e0-e0fe-1841a552acd3"
   },
   "outputs": [
    {
     "name": "stdout",
     "output_type": "stream",
     "text": [
      "+------+\n",
      "|gender|\n",
      "+------+\n",
      "|Female|\n",
      "| Other|\n",
      "|  Male|\n",
      "+------+\n",
      "\n"
     ]
    }
   ],
   "source": [
    "df.select('gender').distinct().show()"
   ]
  },
  {
   "cell_type": "code",
   "execution_count": 259,
   "id": "d3c6ef8f",
   "metadata": {
    "colab": {
     "base_uri": "https://localhost:8080/"
    },
    "executionInfo": {
     "elapsed": 1257,
     "status": "ok",
     "timestamp": 1635949420274,
     "user": {
      "displayName": "Mahmoud mohey el-din",
      "photoUrl": "https://lh3.googleusercontent.com/a/default-user=s64",
      "userId": "13699406433670243851"
     },
     "user_tz": -120
    },
    "id": "9dfe35a4",
    "outputId": "ed047541-7da4-4d6a-cdf1-7792255fcf65"
   },
   "outputs": [
    {
     "name": "stdout",
     "output_type": "stream",
     "text": [
      "+---------------+\n",
      "| smoking_status|\n",
      "+---------------+\n",
      "|         smokes|\n",
      "|        Unknown|\n",
      "|   never smoked|\n",
      "|formerly smoked|\n",
      "+---------------+\n",
      "\n"
     ]
    }
   ],
   "source": [
    "df.select('smoking_status').distinct().show()"
   ]
  },
  {
   "cell_type": "markdown",
   "id": "de7c2c52",
   "metadata": {
    "id": "850bdfe1"
   },
   "source": [
    "#### Change the string values of the columns into numerical values as follow:\n",
    "1. Gender column:\n",
    "    * Male = 1 \n",
    "    * Female = 0 \n",
    "    * Other = 0 \n",
    "2. Smoking Status column:\n",
    "  * never smoked = 0\n",
    "  * Unknown = 0.5\n",
    "  * formerly smoked = 0.75\n",
    "  * smokes = 1.0\n"
   ]
  },
  {
   "cell_type": "code",
   "execution_count": 260,
   "id": "37dcb411",
   "metadata": {
    "executionInfo": {
     "elapsed": 23,
     "status": "ok",
     "timestamp": 1635949420276,
     "user": {
      "displayName": "Mahmoud mohey el-din",
      "photoUrl": "https://lh3.googleusercontent.com/a/default-user=s64",
      "userId": "13699406433670243851"
     },
     "user_tz": -120
    },
    "id": "355f2ef0"
   },
   "outputs": [],
   "source": [
    "gender_mapping = {'Male':1, 'Female':1, 'Other':0}\n",
    "\n",
    "smoking_mapping = {'never smoked' : 0,\n",
    "'Unknown' : 0.5,\n",
    "'formerly smoked' : 0.75,\n",
    "'smokes' : 1.0}"
   ]
  },
  {
   "cell_type": "code",
   "execution_count": 261,
   "id": "e38e3c5b",
   "metadata": {
    "executionInfo": {
     "elapsed": 23,
     "status": "ok",
     "timestamp": 1635949420277,
     "user": {
      "displayName": "Mahmoud mohey el-din",
      "photoUrl": "https://lh3.googleusercontent.com/a/default-user=s64",
      "userId": "13699406433670243851"
     },
     "user_tz": -120
    },
    "id": "Rax5-dv93OdZ"
   },
   "outputs": [],
   "source": [
    "from pyspark.sql.functions import when\n",
    "df_temp = df.withColumn(\"gender\", when(df.gender == \"Male\",1) \\\n",
    "      .when(df.gender == \"Female\",0) \\\n",
    "      .otherwise(0))"
   ]
  },
  {
   "cell_type": "code",
   "execution_count": 262,
   "id": "e71156a3",
   "metadata": {
    "executionInfo": {
     "elapsed": 24,
     "status": "ok",
     "timestamp": 1635949420279,
     "user": {
      "displayName": "Mahmoud mohey el-din",
      "photoUrl": "https://lh3.googleusercontent.com/a/default-user=s64",
      "userId": "13699406433670243851"
     },
     "user_tz": -120
    },
    "id": "MM4zt89I441B"
   },
   "outputs": [],
   "source": [
    "from pyspark.sql.functions import when\n",
    "df = df_temp.withColumn(\"smoking_status\", when(df.smoking_status == 'never smoked', 0) \\\n",
    "      .when(df.smoking_status == 'Unknown' , 0.5) \\\n",
    "      .when(df.smoking_status == 'formerly smoked', 0.75)\\\n",
    "      .otherwise(1))"
   ]
  },
  {
   "cell_type": "markdown",
   "id": "25f34b13",
   "metadata": {
    "id": "3da38a31"
   },
   "source": [
    "#### Show the output DataFrame\n",
    "- Select and show the gender & smoking_status columns after value changing.\n",
    "- Print schema for the new dataframe."
   ]
  },
  {
   "cell_type": "code",
   "execution_count": 263,
   "id": "15fca4db",
   "metadata": {
    "colab": {
     "base_uri": "https://localhost:8080/"
    },
    "executionInfo": {
     "elapsed": 24,
     "status": "ok",
     "timestamp": 1635949420280,
     "user": {
      "displayName": "Mahmoud mohey el-din",
      "photoUrl": "https://lh3.googleusercontent.com/a/default-user=s64",
      "userId": "13699406433670243851"
     },
     "user_tz": -120
    },
    "id": "j2pQgOAh5wUv",
    "outputId": "a1ef386c-d44b-4a71-be8c-19e389a6aacf"
   },
   "outputs": [
    {
     "name": "stdout",
     "output_type": "stream",
     "text": [
      "+------+--------------+\n",
      "|gender|smoking_status|\n",
      "+------+--------------+\n",
      "|     1|          0.75|\n",
      "|     0|           0.0|\n",
      "|     1|           0.0|\n",
      "|     0|           1.0|\n",
      "|     0|           0.0|\n",
      "|     1|          0.75|\n",
      "|     1|           0.0|\n",
      "|     0|           0.0|\n",
      "|     0|           0.5|\n",
      "|     0|           0.5|\n",
      "|     0|           0.0|\n",
      "|     0|           1.0|\n",
      "|     0|           1.0|\n",
      "|     1|           0.5|\n",
      "|     0|           0.0|\n",
      "|     0|           0.0|\n",
      "|     1|           1.0|\n",
      "|     1|           1.0|\n",
      "|     0|           0.0|\n",
      "|     1|           0.5|\n",
      "+------+--------------+\n",
      "only showing top 20 rows\n",
      "\n"
     ]
    }
   ],
   "source": [
    "df.select('gender', 'smoking_status').show()"
   ]
  },
  {
   "cell_type": "code",
   "execution_count": 264,
   "id": "1dea851a",
   "metadata": {
    "colab": {
     "base_uri": "https://localhost:8080/"
    },
    "executionInfo": {
     "elapsed": 17,
     "status": "ok",
     "timestamp": 1635949420281,
     "user": {
      "displayName": "Mahmoud mohey el-din",
      "photoUrl": "https://lh3.googleusercontent.com/a/default-user=s64",
      "userId": "13699406433670243851"
     },
     "user_tz": -120
    },
    "id": "BcYjE2V--CDE",
    "outputId": "9f46d137-958f-4c29-86f9-08bece534014"
   },
   "outputs": [
    {
     "name": "stdout",
     "output_type": "stream",
     "text": [
      "root\n",
      " |-- id: integer (nullable = true)\n",
      " |-- gender: integer (nullable = false)\n",
      " |-- age: float (nullable = true)\n",
      " |-- hypertension: integer (nullable = true)\n",
      " |-- heart_disease: integer (nullable = true)\n",
      " |-- ever_married: string (nullable = true)\n",
      " |-- work_type: string (nullable = true)\n",
      " |-- Residence_type: string (nullable = true)\n",
      " |-- avg_glucose_level: float (nullable = true)\n",
      " |-- bmi: float (nullable = true)\n",
      " |-- smoking_status: double (nullable = false)\n",
      " |-- stroke: integer (nullable = true)\n",
      "\n"
     ]
    }
   ],
   "source": [
    "df.printSchema()"
   ]
  },
  {
   "cell_type": "markdown",
   "id": "739ee527",
   "metadata": {
    "id": "89ce3b77"
   },
   "source": [
    "### Deal with null value according to your data analysis."
   ]
  },
  {
   "cell_type": "code",
   "execution_count": 265,
   "id": "1b3e2768",
   "metadata": {
    "executionInfo": {
     "elapsed": 27,
     "status": "ok",
     "timestamp": 1635949420851,
     "user": {
      "displayName": "Mahmoud mohey el-din",
      "photoUrl": "https://lh3.googleusercontent.com/a/default-user=s64",
      "userId": "13699406433670243851"
     },
     "user_tz": -120
    },
    "id": "097pvGVH6anc"
   },
   "outputs": [],
   "source": [
    "bmi_mean = round(df.agg(f.avg('bmi')).collect()[0][0],2)"
   ]
  },
  {
   "cell_type": "code",
   "execution_count": 266,
   "id": "b3b533eb",
   "metadata": {
    "colab": {
     "base_uri": "https://localhost:8080/"
    },
    "executionInfo": {
     "elapsed": 25,
     "status": "ok",
     "timestamp": 1635949420854,
     "user": {
      "displayName": "Mahmoud mohey el-din",
      "photoUrl": "https://lh3.googleusercontent.com/a/default-user=s64",
      "userId": "13699406433670243851"
     },
     "user_tz": -120
    },
    "id": "CQCoQqUD7LE8",
    "outputId": "8f2980d6-88ca-4b7d-e82f-40f0596acc08"
   },
   "outputs": [
    {
     "data": {
      "text/plain": [
       "29.14"
      ]
     },
     "execution_count": 266,
     "metadata": {},
     "output_type": "execute_result"
    }
   ],
   "source": [
    "bmi_mean"
   ]
  },
  {
   "cell_type": "code",
   "execution_count": 267,
   "id": "cc594308",
   "metadata": {
    "executionInfo": {
     "elapsed": 18,
     "status": "ok",
     "timestamp": 1635949420856,
     "user": {
      "displayName": "Mahmoud mohey el-din",
      "photoUrl": "https://lh3.googleusercontent.com/a/default-user=s64",
      "userId": "13699406433670243851"
     },
     "user_tz": -120
    },
    "id": "4d78cb87"
   },
   "outputs": [],
   "source": [
    "df = df.na.fill(bmi_mean,['bmi'])"
   ]
  },
  {
   "cell_type": "markdown",
   "id": "a94a2e85",
   "metadata": {
    "id": "053c429a"
   },
   "source": [
    "### Split the data into training and test dataframes:\n",
    "- 80% training and 20% test.\n",
    "- seed = 42.\n",
    "- Save each dataframe as a parquet file"
   ]
  },
  {
   "cell_type": "code",
   "execution_count": 297,
   "id": "e5bd086a",
   "metadata": {
    "colab": {
     "base_uri": "https://localhost:8080/"
    },
    "executionInfo": {
     "elapsed": 461,
     "status": "ok",
     "timestamp": 1635949740400,
     "user": {
      "displayName": "Mahmoud mohey el-din",
      "photoUrl": "https://lh3.googleusercontent.com/a/default-user=s64",
      "userId": "13699406433670243851"
     },
     "user_tz": -120
    },
    "id": "0236ea8b",
    "outputId": "3c5191bf-870c-46bb-da15-529dc68fb157"
   },
   "outputs": [
    {
     "name": "stdout",
     "output_type": "stream",
     "text": [
      "There are 4037 rows in the training set, and 953 in the test set\n"
     ]
    }
   ],
   "source": [
    "train_df, test_df = df.randomSplit([.8,.2],seed=42)\n",
    "print(f\"There are {train_df.count()} rows in the training set, and {test_df.count()} in the test set\")"
   ]
  },
  {
   "cell_type": "code",
   "execution_count": 271,
   "id": "f67cbc68",
   "metadata": {
    "executionInfo": {
     "elapsed": 1279,
     "status": "ok",
     "timestamp": 1635949457717,
     "user": {
      "displayName": "Mahmoud mohey el-din",
      "photoUrl": "https://lh3.googleusercontent.com/a/default-user=s64",
      "userId": "13699406433670243851"
     },
     "user_tz": -120
    },
    "id": "q-ZzXbB189An"
   },
   "outputs": [],
   "source": [
    "train_df.write.parquet(\"train.parquet\",  mode = 'overwrite')\n",
    "test_df.write.parquet(\"test.parquet\",  mode = 'overwrite')"
   ]
  },
  {
   "cell_type": "markdown",
   "id": "75da027c",
   "metadata": {
    "id": "78fa24da"
   },
   "source": [
    "### Read the saved Train and Test DataFrame:\n",
    "- Use the dataframes you read in the subsequent steps."
   ]
  },
  {
   "cell_type": "code",
   "execution_count": 272,
   "id": "bef468bd",
   "metadata": {
    "executionInfo": {
     "elapsed": 479,
     "status": "ok",
     "timestamp": 1635949458191,
     "user": {
      "displayName": "Mahmoud mohey el-din",
      "photoUrl": "https://lh3.googleusercontent.com/a/default-user=s64",
      "userId": "13699406433670243851"
     },
     "user_tz": -120
    },
    "id": "c3f5c1e3"
   },
   "outputs": [],
   "source": [
    "train_df = spark.read.parquet('train.parquet')\n",
    "test_df = spark.read.parquet('test.parquet')"
   ]
  },
  {
   "cell_type": "markdown",
   "id": "565eb016",
   "metadata": {
    "id": "987b4b40"
   },
   "source": [
    "### Create the model:\n",
    "- Perform feature engineering steps.\n",
    "- Create the logistic regression classifier.\n",
    "- Build the pipeline model that uses all feature engineering steps and the model.\n",
    "- Train the pipeline model using the trainig dataset."
   ]
  },
  {
   "cell_type": "code",
   "execution_count": 298,
   "id": "6b527467",
   "metadata": {
    "executionInfo": {
     "elapsed": 596,
     "status": "ok",
     "timestamp": 1635949749927,
     "user": {
      "displayName": "Mahmoud mohey el-din",
      "photoUrl": "https://lh3.googleusercontent.com/a/default-user=s64",
      "userId": "13699406433670243851"
     },
     "user_tz": -120
    },
    "id": "jAbUCLcw-xSa"
   },
   "outputs": [],
   "source": [
    "import pyspark.ml.feature as ml\n",
    "from pyspark.ml import Pipeline\n",
    "from pyspark.ml.classification import LogisticRegression"
   ]
  },
  {
   "cell_type": "code",
   "execution_count": 299,
   "id": "65472843",
   "metadata": {
    "colab": {
     "base_uri": "https://localhost:8080/"
    },
    "executionInfo": {
     "elapsed": 75,
     "status": "ok",
     "timestamp": 1635949750442,
     "user": {
      "displayName": "Mahmoud mohey el-din",
      "photoUrl": "https://lh3.googleusercontent.com/a/default-user=s64",
      "userId": "13699406433670243851"
     },
     "user_tz": -120
    },
    "id": "3278e362",
    "outputId": "a3e8773a-f195-41e6-bd91-e6809a724518"
   },
   "outputs": [
    {
     "data": {
      "text/plain": [
       "['ever_married_Index', 'work_type_Index', 'Residence_type_Index']"
      ]
     },
     "execution_count": 299,
     "metadata": {},
     "output_type": "execute_result"
    }
   ],
   "source": [
    "categorical_cols  = ['ever_married', 'work_type', 'Residence_type']\n",
    "index_output_cols = [x + \"_Index\" for x in categorical_cols]\n",
    "index_output_cols"
   ]
  },
  {
   "cell_type": "code",
   "execution_count": 300,
   "id": "3ba87952",
   "metadata": {
    "colab": {
     "base_uri": "https://localhost:8080/"
    },
    "executionInfo": {
     "elapsed": 67,
     "status": "ok",
     "timestamp": 1635949750444,
     "user": {
      "displayName": "Mahmoud mohey el-din",
      "photoUrl": "https://lh3.googleusercontent.com/a/default-user=s64",
      "userId": "13699406433670243851"
     },
     "user_tz": -120
    },
    "id": "4e41b352",
    "outputId": "a764e9cf-143b-4b80-e79c-555283d78b0e"
   },
   "outputs": [
    {
     "data": {
      "text/plain": [
       "['ever_married_OHE', 'work_type_OHE', 'Residence_type_OHE']"
      ]
     },
     "execution_count": 300,
     "metadata": {},
     "output_type": "execute_result"
    }
   ],
   "source": [
    "ohe_output_cols = [x + \"_OHE\" for x in categorical_cols]\n",
    "ohe_output_cols"
   ]
  },
  {
   "cell_type": "code",
   "execution_count": 301,
   "id": "ccdf6ff0",
   "metadata": {
    "executionInfo": {
     "elapsed": 62,
     "status": "ok",
     "timestamp": 1635949750445,
     "user": {
      "displayName": "Mahmoud mohey el-din",
      "photoUrl": "https://lh3.googleusercontent.com/a/default-user=s64",
      "userId": "13699406433670243851"
     },
     "user_tz": -120
    },
    "id": "106453d7"
   },
   "outputs": [],
   "source": [
    "string_indexer = ml.StringIndexer(inputCols=categorical_cols, outputCols=index_output_cols)"
   ]
  },
  {
   "cell_type": "code",
   "execution_count": 302,
   "id": "3a5ac0b8",
   "metadata": {
    "executionInfo": {
     "elapsed": 63,
     "status": "ok",
     "timestamp": 1635949750446,
     "user": {
      "displayName": "Mahmoud mohey el-din",
      "photoUrl": "https://lh3.googleusercontent.com/a/default-user=s64",
      "userId": "13699406433670243851"
     },
     "user_tz": -120
    },
    "id": "7vDFvHhl-6fD"
   },
   "outputs": [],
   "source": [
    "one_encoder = ml.OneHotEncoder(inputCols=index_output_cols, outputCols=ohe_output_cols)"
   ]
  },
  {
   "cell_type": "code",
   "execution_count": 303,
   "id": "36bb6593",
   "metadata": {
    "colab": {
     "base_uri": "https://localhost:8080/"
    },
    "executionInfo": {
     "elapsed": 63,
     "status": "ok",
     "timestamp": 1635949750447,
     "user": {
      "displayName": "Mahmoud mohey el-din",
      "photoUrl": "https://lh3.googleusercontent.com/a/default-user=s64",
      "userId": "13699406433670243851"
     },
     "user_tz": -120
    },
    "id": "0lhwlElR-_PC",
    "outputId": "d2dfe959-61c8-433f-c994-2212c681e571"
   },
   "outputs": [
    {
     "data": {
      "text/plain": [
       "['gender',\n",
       " 'age',\n",
       " 'hypertension',\n",
       " 'heart_disease',\n",
       " 'avg_glucose_level',\n",
       " 'bmi',\n",
       " 'smoking_status']"
      ]
     },
     "execution_count": 303,
     "metadata": {},
     "output_type": "execute_result"
    }
   ],
   "source": [
    "numerical_cols =[field for (field,dataType) in df.dtypes\n",
    "              if ((dataType!='string')& (field not in ['id', 'stroke', 'weightCol']))]\n",
    "numerical_cols"
   ]
  },
  {
   "cell_type": "code",
   "execution_count": 304,
   "id": "638259fb",
   "metadata": {
    "colab": {
     "base_uri": "https://localhost:8080/"
    },
    "executionInfo": {
     "elapsed": 57,
     "status": "ok",
     "timestamp": 1635949750448,
     "user": {
      "displayName": "Mahmoud mohey el-din",
      "photoUrl": "https://lh3.googleusercontent.com/a/default-user=s64",
      "userId": "13699406433670243851"
     },
     "user_tz": -120
    },
    "id": "yfhDuaMF_cyN",
    "outputId": "e6efef81-dffb-4859-f99c-bc27831064c5"
   },
   "outputs": [
    {
     "data": {
      "text/plain": [
       "['ever_married_OHE',\n",
       " 'work_type_OHE',\n",
       " 'Residence_type_OHE',\n",
       " 'gender',\n",
       " 'age',\n",
       " 'hypertension',\n",
       " 'heart_disease',\n",
       " 'avg_glucose_level',\n",
       " 'bmi',\n",
       " 'smoking_status']"
      ]
     },
     "execution_count": 304,
     "metadata": {},
     "output_type": "execute_result"
    }
   ],
   "source": [
    "mixed_features = ohe_output_cols + numerical_cols\n",
    "mixed_features"
   ]
  },
  {
   "cell_type": "code",
   "execution_count": 305,
   "id": "22bb95db",
   "metadata": {
    "colab": {
     "base_uri": "https://localhost:8080/"
    },
    "executionInfo": {
     "elapsed": 41,
     "status": "ok",
     "timestamp": 1635949750448,
     "user": {
      "displayName": "Mahmoud mohey el-din",
      "photoUrl": "https://lh3.googleusercontent.com/a/default-user=s64",
      "userId": "13699406433670243851"
     },
     "user_tz": -120
    },
    "id": "OrZ-UDZtDxUm",
    "outputId": "05e5a395-8117-40c3-d0b0-17f4426b460e"
   },
   "outputs": [
    {
     "name": "stdout",
     "output_type": "stream",
     "text": [
      "+---+------+----+------------+-------------+------------+-------------+--------------+-----------------+-----+--------------+------+\n",
      "| id|gender| age|hypertension|heart_disease|ever_married|    work_type|Residence_type|avg_glucose_level|  bmi|smoking_status|stroke|\n",
      "+---+------+----+------------+-------------+------------+-------------+--------------+-----------------+-----+--------------+------+\n",
      "| 67|     0|17.0|           0|            0|          No|      Private|         Urban|            92.97|29.14|          0.75|     0|\n",
      "| 77|     0|13.0|           0|            0|          No|     children|         Rural|            85.81| 18.6|           0.5|     0|\n",
      "| 91|     0|42.0|           0|            0|          No|      Private|         Urban|            98.53| 18.5|           0.0|     0|\n",
      "| 99|     0|31.0|           0|            0|          No|      Private|         Urban|           108.89| 52.3|           0.5|     0|\n",
      "|121|     0|38.0|           0|            0|         Yes|      Private|         Urban|            91.44|29.14|           0.5|     0|\n",
      "|132|     0|80.0|           0|            0|         Yes|     Govt_job|         Urban|            84.86|29.14|           0.5|     0|\n",
      "|163|     0|20.0|           0|            0|          No|      Private|         Rural|            94.67| 28.8|           0.5|     0|\n",
      "|170|     1|43.0|           0|            0|         Yes|     Govt_job|         Rural|            80.07|29.14|           0.0|     0|\n",
      "|172|     1| 8.0|           0|            0|          No|     children|         Urban|            78.76|29.14|           0.5|     0|\n",
      "|187|     0|20.0|           0|            0|          No|      Private|         Rural|            84.07| 27.6|           1.0|     0|\n",
      "|210|     1|81.0|           0|            0|         Yes|Self-employed|         Rural|            91.54| 31.4|           0.0|     1|\n",
      "|224|     0|23.0|           0|            0|          No|      Private|         Urban|           110.16|29.14|           0.0|     0|\n",
      "|239|     1|59.0|           1|            1|         Yes|      Private|         Rural|           246.53| 27.2|          0.75|     0|\n",
      "|242|     1| 4.0|           0|            0|          No|     children|         Urban|            98.56| 17.5|           0.5|     0|\n",
      "|247|     1|31.0|           0|            0|          No|      Private|         Urban|             72.6| 31.6|           0.0|     0|\n",
      "|298|     0|41.0|           0|            0|         Yes|Self-employed|         Rural|            76.66|29.14|           0.5|     0|\n",
      "|315|     1|45.0|           0|            0|         Yes|      Private|         Rural|            65.42| 39.7|           0.0|     0|\n",
      "|321|     0|79.0|           0|            0|          No|Self-employed|         Rural|            71.98| 36.4|           0.0|     0|\n",
      "|347|     0|16.0|           0|            0|          No|      Private|         Urban|            89.45|29.14|           0.5|     0|\n",
      "|354|     0|65.0|           0|            0|         Yes|      Private|         Urban|            72.49| 28.9|           1.0|     0|\n",
      "+---+------+----+------------+-------------+------------+-------------+--------------+-----------------+-----+--------------+------+\n",
      "only showing top 20 rows\n",
      "\n"
     ]
    }
   ],
   "source": [
    "train_df.show()"
   ]
  },
  {
   "cell_type": "code",
   "execution_count": 306,
   "id": "af2777b2",
   "metadata": {
    "executionInfo": {
     "elapsed": 28,
     "status": "ok",
     "timestamp": 1635949750449,
     "user": {
      "displayName": "Mahmoud mohey el-din",
      "photoUrl": "https://lh3.googleusercontent.com/a/default-user=s64",
      "userId": "13699406433670243851"
     },
     "user_tz": -120
    },
    "id": "pWzG8fK-_g7B"
   },
   "outputs": [],
   "source": [
    "vector_assembler = ml.VectorAssembler(inputCols=mixed_features, outputCol='features')"
   ]
  },
  {
   "cell_type": "code",
   "execution_count": 307,
   "id": "65ab3b1f",
   "metadata": {
    "executionInfo": {
     "elapsed": 26,
     "status": "ok",
     "timestamp": 1635949750450,
     "user": {
      "displayName": "Mahmoud mohey el-din",
      "photoUrl": "https://lh3.googleusercontent.com/a/default-user=s64",
      "userId": "13699406433670243851"
     },
     "user_tz": -120
    },
    "id": "BESEYkGQ_gq0"
   },
   "outputs": [],
   "source": [
    "lr = LogisticRegression(labelCol='stroke')"
   ]
  },
  {
   "cell_type": "code",
   "execution_count": 308,
   "id": "a48ab991",
   "metadata": {
    "executionInfo": {
     "elapsed": 25,
     "status": "ok",
     "timestamp": 1635949750450,
     "user": {
      "displayName": "Mahmoud mohey el-din",
      "photoUrl": "https://lh3.googleusercontent.com/a/default-user=s64",
      "userId": "13699406433670243851"
     },
     "user_tz": -120
    },
    "id": "V1R1vL0EAwt0"
   },
   "outputs": [],
   "source": [
    "pipeline = Pipeline(stages=[string_indexer, one_encoder, vector_assembler, lr])"
   ]
  },
  {
   "cell_type": "code",
   "execution_count": 309,
   "id": "e601237e",
   "metadata": {
    "executionInfo": {
     "elapsed": 5373,
     "status": "ok",
     "timestamp": 1635949755799,
     "user": {
      "displayName": "Mahmoud mohey el-din",
      "photoUrl": "https://lh3.googleusercontent.com/a/default-user=s64",
      "userId": "13699406433670243851"
     },
     "user_tz": -120
    },
    "id": "CSFU_B6BA7lu"
   },
   "outputs": [],
   "source": [
    "model=pipeline.fit(train_df)"
   ]
  },
  {
   "cell_type": "markdown",
   "id": "0294381d",
   "metadata": {
    "id": "a05c2677"
   },
   "source": [
    "### Perform predictions on tests dataframe:\n",
    "- Test the model using the test dataframe\n",
    "- Select and show the feature column.\n",
    "- Print the schema of the output dataframe.\n",
    "- Select and show both prediction and label columns.\n",
    "- Explore the results for the label column stroke=1. i.e. select both columns (prediction,stroke) for stroke=1.<b>notice the result.</b> \n",
    "- Count the predicted 1 and 0 values.<b>notice the result.</b>   "
   ]
  },
  {
   "cell_type": "code",
   "execution_count": 310,
   "id": "1c67f3ff",
   "metadata": {
    "executionInfo": {
     "elapsed": 11,
     "status": "ok",
     "timestamp": 1635949755800,
     "user": {
      "displayName": "Mahmoud mohey el-din",
      "photoUrl": "https://lh3.googleusercontent.com/a/default-user=s64",
      "userId": "13699406433670243851"
     },
     "user_tz": -120
    },
    "id": "p82VtrCqBZqy"
   },
   "outputs": [],
   "source": [
    "pred = model.transform(test_df)"
   ]
  },
  {
   "cell_type": "code",
   "execution_count": 311,
   "id": "699c5c71",
   "metadata": {
    "colab": {
     "base_uri": "https://localhost:8080/"
    },
    "executionInfo": {
     "elapsed": 797,
     "status": "ok",
     "timestamp": 1635949756590,
     "user": {
      "displayName": "Mahmoud mohey el-din",
      "photoUrl": "https://lh3.googleusercontent.com/a/default-user=s64",
      "userId": "13699406433670243851"
     },
     "user_tz": -120
    },
    "id": "Qie_rnhWBie_",
    "outputId": "f87b2cdb-e7af-498e-fd24-72e89cd570ed"
   },
   "outputs": [
    {
     "name": "stdout",
     "output_type": "stream",
     "text": [
      "+----------------------------------------------------------------------------------+\n",
      "|features                                                                          |\n",
      "+----------------------------------------------------------------------------------+\n",
      "|(13,[0,1,5,6,7,10,11],[1.0,1.0,1.0,1.0,55.0,89.16999816894531,31.5])              |\n",
      "|(13,[1,5,7,10,11],[1.0,1.0,24.0,97.55000305175781,26.200000762939453])            |\n",
      "|(13,[0,1,7,10,11],[1.0,1.0,33.0,86.97000122070312,42.20000076293945])             |\n",
      "|(13,[0,1,7,10,11,12],[1.0,1.0,43.0,88.2300033569336,37.599998474121094,0.5])      |\n",
      "|(13,[0,1,5,6,7,10,11],[1.0,1.0,1.0,1.0,79.0,198.7899932861328,24.899999618530273])|\n",
      "+----------------------------------------------------------------------------------+\n",
      "only showing top 5 rows\n",
      "\n"
     ]
    }
   ],
   "source": [
    "pred.select('features').show(5, truncate=False)"
   ]
  },
  {
   "cell_type": "code",
   "execution_count": 312,
   "id": "88e5ae27",
   "metadata": {
    "colab": {
     "base_uri": "https://localhost:8080/"
    },
    "executionInfo": {
     "elapsed": 22,
     "status": "ok",
     "timestamp": 1635949756592,
     "user": {
      "displayName": "Mahmoud mohey el-din",
      "photoUrl": "https://lh3.googleusercontent.com/a/default-user=s64",
      "userId": "13699406433670243851"
     },
     "user_tz": -120
    },
    "id": "3ea267eb",
    "outputId": "560adbf2-b74b-4b4f-e9b7-bca823eac662"
   },
   "outputs": [
    {
     "name": "stdout",
     "output_type": "stream",
     "text": [
      "root\n",
      " |-- id: integer (nullable = true)\n",
      " |-- gender: integer (nullable = false)\n",
      " |-- age: float (nullable = true)\n",
      " |-- hypertension: integer (nullable = true)\n",
      " |-- heart_disease: integer (nullable = true)\n",
      " |-- ever_married: string (nullable = true)\n",
      " |-- work_type: string (nullable = true)\n",
      " |-- Residence_type: string (nullable = true)\n",
      " |-- avg_glucose_level: float (nullable = true)\n",
      " |-- bmi: float (nullable = false)\n",
      " |-- smoking_status: double (nullable = false)\n",
      " |-- stroke: integer (nullable = true)\n",
      " |-- ever_married_Index: double (nullable = false)\n",
      " |-- work_type_Index: double (nullable = false)\n",
      " |-- Residence_type_Index: double (nullable = false)\n",
      " |-- ever_married_OHE: vector (nullable = true)\n",
      " |-- work_type_OHE: vector (nullable = true)\n",
      " |-- Residence_type_OHE: vector (nullable = true)\n",
      " |-- features: vector (nullable = true)\n",
      " |-- rawPrediction: vector (nullable = true)\n",
      " |-- probability: vector (nullable = true)\n",
      " |-- prediction: double (nullable = false)\n",
      "\n"
     ]
    }
   ],
   "source": [
    "pred.printSchema()"
   ]
  },
  {
   "cell_type": "code",
   "execution_count": 313,
   "id": "4d16f2b7",
   "metadata": {
    "colab": {
     "base_uri": "https://localhost:8080/"
    },
    "executionInfo": {
     "elapsed": 15,
     "status": "ok",
     "timestamp": 1635949756593,
     "user": {
      "displayName": "Mahmoud mohey el-din",
      "photoUrl": "https://lh3.googleusercontent.com/a/default-user=s64",
      "userId": "13699406433670243851"
     },
     "user_tz": -120
    },
    "id": "480d892e",
    "outputId": "1d4f8c5d-bc89-4d5d-f43d-10dd8ae4cea1",
    "scrolled": false
   },
   "outputs": [
    {
     "name": "stdout",
     "output_type": "stream",
     "text": [
      "+--------------------+------+\n",
      "|            features|stroke|\n",
      "+--------------------+------+\n",
      "|(13,[0,1,5,6,7,10...|     0|\n",
      "|(13,[1,5,7,10,11]...|     0|\n",
      "|(13,[0,1,7,10,11]...|     0|\n",
      "|(13,[0,1,7,10,11,...|     0|\n",
      "|(13,[0,1,5,6,7,10...|     0|\n",
      "+--------------------+------+\n",
      "only showing top 5 rows\n",
      "\n"
     ]
    }
   ],
   "source": [
    "pred.select('features','stroke').show(5)"
   ]
  },
  {
   "cell_type": "code",
   "execution_count": 314,
   "id": "3ce15862",
   "metadata": {
    "colab": {
     "base_uri": "https://localhost:8080/"
    },
    "executionInfo": {
     "elapsed": 599,
     "status": "ok",
     "timestamp": 1635949757186,
     "user": {
      "displayName": "Mahmoud mohey el-din",
      "photoUrl": "https://lh3.googleusercontent.com/a/default-user=s64",
      "userId": "13699406433670243851"
     },
     "user_tz": -120
    },
    "id": "QWvK_dN9DTbu",
    "outputId": "3283936c-4f36-473a-987f-02eecec79653"
   },
   "outputs": [
    {
     "data": {
      "text/plain": [
       "907"
      ]
     },
     "execution_count": 314,
     "metadata": {},
     "output_type": "execute_result"
    }
   ],
   "source": [
    "pred.filter(pred['stroke'] == 0).count()"
   ]
  },
  {
   "cell_type": "code",
   "execution_count": 315,
   "id": "3edf12a3",
   "metadata": {
    "colab": {
     "base_uri": "https://localhost:8080/"
    },
    "executionInfo": {
     "elapsed": 14,
     "status": "ok",
     "timestamp": 1635949757187,
     "user": {
      "displayName": "Mahmoud mohey el-din",
      "photoUrl": "https://lh3.googleusercontent.com/a/default-user=s64",
      "userId": "13699406433670243851"
     },
     "user_tz": -120
    },
    "id": "szh8FPCFDftz",
    "outputId": "196ff05e-7532-436f-ee7d-01bdcb92152b"
   },
   "outputs": [
    {
     "data": {
      "text/plain": [
       "46"
      ]
     },
     "execution_count": 315,
     "metadata": {},
     "output_type": "execute_result"
    }
   ],
   "source": [
    "pred.filter(pred['stroke'] == 1).count()"
   ]
  },
  {
   "cell_type": "markdown",
   "id": "cacf9210",
   "metadata": {
    "id": "daec120f"
   },
   "source": [
    "### Evaluate the model performance\n",
    "- Use <b>BinaryClassificationEvaluator</b>. This will calculate the <b>ROC</b>.\n",
    "- Set the parameters as follow:\n",
    "    - <b>rawPredictionCol='prediction'</b> and <b>labelCol='stroke'</b>"
   ]
  },
  {
   "cell_type": "code",
   "execution_count": 316,
   "id": "56070319",
   "metadata": {
    "executionInfo": {
     "elapsed": 9,
     "status": "ok",
     "timestamp": 1635949757188,
     "user": {
      "displayName": "Mahmoud mohey el-din",
      "photoUrl": "https://lh3.googleusercontent.com/a/default-user=s64",
      "userId": "13699406433670243851"
     },
     "user_tz": -120
    },
    "id": "a7b5ad25"
   },
   "outputs": [],
   "source": [
    "from pyspark.ml.evaluation import BinaryClassificationEvaluator"
   ]
  },
  {
   "cell_type": "code",
   "execution_count": 317,
   "id": "dcd6ccfe",
   "metadata": {
    "executionInfo": {
     "elapsed": 9,
     "status": "ok",
     "timestamp": 1635949757189,
     "user": {
      "displayName": "Mahmoud mohey el-din",
      "photoUrl": "https://lh3.googleusercontent.com/a/default-user=s64",
      "userId": "13699406433670243851"
     },
     "user_tz": -120
    },
    "id": "44d3a1e6"
   },
   "outputs": [],
   "source": [
    "evaluatorROC = BinaryClassificationEvaluator(rawPredictionCol='prediction'\n",
    "                                             ,labelCol='stroke')"
   ]
  },
  {
   "cell_type": "code",
   "execution_count": 318,
   "id": "c31a18dc",
   "metadata": {
    "colab": {
     "base_uri": "https://localhost:8080/"
    },
    "executionInfo": {
     "elapsed": 492,
     "status": "ok",
     "timestamp": 1635949757673,
     "user": {
      "displayName": "Mahmoud mohey el-din",
      "photoUrl": "https://lh3.googleusercontent.com/a/default-user=s64",
      "userId": "13699406433670243851"
     },
     "user_tz": -120
    },
    "id": "_AyMAvUIDpKd",
    "outputId": "973db086-953b-4b52-ac4f-6c13db56dfea"
   },
   "outputs": [
    {
     "data": {
      "text/plain": [
       "0.5"
      ]
     },
     "execution_count": 318,
     "metadata": {},
     "output_type": "execute_result"
    }
   ],
   "source": [
    "evaluatorROC.evaluate(pred)"
   ]
  },
  {
   "cell_type": "markdown",
   "id": "3e637a19",
   "metadata": {
    "id": "40206589"
   },
   "source": [
    "### Improve Model Performance\n",
    "- You may noticed that <b>the target label is imbalanced</b>.\n",
    "- LogisticRegression classifier has a special parameter <b>weightCol</b> to deal with imbalanced class.\n",
    "- In order to use this parameter you must have a <b>weightCol</b> in your training dataframe.\n",
    "- In order to create this column you will need to define a <b>UDF</b> and apply it to the target label column.\n",
    "- Create a LogisticRegression classifier with <b>weightCol</b> parameter.\n",
    "- Build and train a pipeline model with the new LogisticRegression.\n",
    "- Perform the prediction on the test dataframe. \n",
    "- Select and show both prediction and label columns.\n",
    "- Explore the results for the label column stroke=1. i.e. select both columns (prediction,stroke) for stroke=1.<b>notice the result.</b> \n",
    "- Count the predicted 1 and 0 values.<b>notice the result.</b>   \n",
    "- Evaluate the model performance exactly as in the previous step.\n",
    "### YOU SHOULD OBTAIN  ROC > 0.65\n",
    "<BR>\n",
    "<b><font color='red'>Note: feel free to deal with the imbalanced cluster with the above method or another. However, you can only use methods applied on SPARK DATAFRAME</font></b>"
   ]
  },
  {
   "cell_type": "code",
   "execution_count": 319,
   "id": "4d119341",
   "metadata": {
    "executionInfo": {
     "elapsed": 725,
     "status": "ok",
     "timestamp": 1635949758394,
     "user": {
      "displayName": "Mahmoud mohey el-din",
      "photoUrl": "https://lh3.googleusercontent.com/a/default-user=s64",
      "userId": "13699406433670243851"
     },
     "user_tz": -120
    },
    "id": "FBEjwruiEbEE"
   },
   "outputs": [],
   "source": [
    "ratio = pred.filter(pred['stroke'] == 0).count() / pred.count()\n",
    "non_stroke_weight = 1 - ratio\n",
    "stroke_weight = ratio"
   ]
  },
  {
   "cell_type": "code",
   "execution_count": 320,
   "id": "cd0dd0ee",
   "metadata": {
    "colab": {
     "base_uri": "https://localhost:8080/"
    },
    "executionInfo": {
     "elapsed": 32,
     "status": "ok",
     "timestamp": 1635949758395,
     "user": {
      "displayName": "Mahmoud mohey el-din",
      "photoUrl": "https://lh3.googleusercontent.com/a/default-user=s64",
      "userId": "13699406433670243851"
     },
     "user_tz": -120
    },
    "id": "foh8cKFaGjUZ",
    "outputId": "c621db56-3961-4fd4-f7a3-95580c753476"
   },
   "outputs": [
    {
     "name": "stdout",
     "output_type": "stream",
     "text": [
      "0.04826862539349419 0.9517313746065058\n"
     ]
    }
   ],
   "source": [
    "print(non_stroke_weight, stroke_weight)"
   ]
  },
  {
   "cell_type": "code",
   "execution_count": 321,
   "id": "3de9b9cc",
   "metadata": {
    "executionInfo": {
     "elapsed": 25,
     "status": "ok",
     "timestamp": 1635949758397,
     "user": {
      "displayName": "Mahmoud mohey el-din",
      "photoUrl": "https://lh3.googleusercontent.com/a/default-user=s64",
      "userId": "13699406433670243851"
     },
     "user_tz": -120
    },
    "id": "lNCZqGlrG5mU"
   },
   "outputs": [],
   "source": [
    " train_df = train_df.withColumn(\"weightCol\", when(df.stroke == 0, non_stroke_weight).when(df.stroke == 1, stroke_weight))"
   ]
  },
  {
   "cell_type": "code",
   "execution_count": 322,
   "id": "bbb2a288",
   "metadata": {
    "executionInfo": {
     "elapsed": 23,
     "status": "ok",
     "timestamp": 1635949758398,
     "user": {
      "displayName": "Mahmoud mohey el-din",
      "photoUrl": "https://lh3.googleusercontent.com/a/default-user=s64",
      "userId": "13699406433670243851"
     },
     "user_tz": -120
    },
    "id": "rUyeylVyIShy"
   },
   "outputs": [],
   "source": [
    "lr_mod = LogisticRegression(labelCol='stroke', weightCol='weightCol')"
   ]
  },
  {
   "cell_type": "code",
   "execution_count": 323,
   "id": "641716c2",
   "metadata": {
    "executionInfo": {
     "elapsed": 19,
     "status": "ok",
     "timestamp": 1635949758399,
     "user": {
      "displayName": "Mahmoud mohey el-din",
      "photoUrl": "https://lh3.googleusercontent.com/a/default-user=s64",
      "userId": "13699406433670243851"
     },
     "user_tz": -120
    },
    "id": "vcsrthQnIfGW"
   },
   "outputs": [],
   "source": [
    "pipeline = Pipeline(stages=[string_indexer, one_encoder, vector_assembler, lr_mod])"
   ]
  },
  {
   "cell_type": "code",
   "execution_count": 324,
   "id": "a305d85e",
   "metadata": {
    "executionInfo": {
     "elapsed": 4746,
     "status": "ok",
     "timestamp": 1635949763129,
     "user": {
      "displayName": "Mahmoud mohey el-din",
      "photoUrl": "https://lh3.googleusercontent.com/a/default-user=s64",
      "userId": "13699406433670243851"
     },
     "user_tz": -120
    },
    "id": "weUKZlLvIe9p"
   },
   "outputs": [],
   "source": [
    "model=pipeline.fit(train_df)"
   ]
  },
  {
   "cell_type": "code",
   "execution_count": 325,
   "id": "ca196e5a",
   "metadata": {
    "executionInfo": {
     "elapsed": 10,
     "status": "ok",
     "timestamp": 1635949763130,
     "user": {
      "displayName": "Mahmoud mohey el-din",
      "photoUrl": "https://lh3.googleusercontent.com/a/default-user=s64",
      "userId": "13699406433670243851"
     },
     "user_tz": -120
    },
    "id": "XGNsNO49IezP"
   },
   "outputs": [],
   "source": [
    "pred = model.transform(test_df)"
   ]
  },
  {
   "cell_type": "code",
   "execution_count": 326,
   "id": "230cde03",
   "metadata": {
    "colab": {
     "base_uri": "https://localhost:8080/"
    },
    "executionInfo": {
     "elapsed": 518,
     "status": "ok",
     "timestamp": 1635949763641,
     "user": {
      "displayName": "Mahmoud mohey el-din",
      "photoUrl": "https://lh3.googleusercontent.com/a/default-user=s64",
      "userId": "13699406433670243851"
     },
     "user_tz": -120
    },
    "id": "L_lBVsEuJQ33",
    "outputId": "bb65aab5-f94c-473c-c667-eb646d607ff7"
   },
   "outputs": [
    {
     "name": "stdout",
     "output_type": "stream",
     "text": [
      "+----------+------+\n",
      "|prediction|stroke|\n",
      "+----------+------+\n",
      "|       0.0|     0|\n",
      "|       0.0|     0|\n",
      "|       0.0|     0|\n",
      "|       0.0|     0|\n",
      "|       1.0|     0|\n",
      "+----------+------+\n",
      "only showing top 5 rows\n",
      "\n"
     ]
    }
   ],
   "source": [
    "pred.select('prediction','stroke').show(5)"
   ]
  },
  {
   "cell_type": "code",
   "execution_count": 327,
   "id": "53b98b50",
   "metadata": {
    "colab": {
     "base_uri": "https://localhost:8080/"
    },
    "executionInfo": {
     "elapsed": 10,
     "status": "ok",
     "timestamp": 1635949763642,
     "user": {
      "displayName": "Mahmoud mohey el-din",
      "photoUrl": "https://lh3.googleusercontent.com/a/default-user=s64",
      "userId": "13699406433670243851"
     },
     "user_tz": -120
    },
    "id": "00e034e9",
    "outputId": "fff878d5-39d1-4b1b-e2bb-0e7f9773331d"
   },
   "outputs": [
    {
     "data": {
      "text/plain": [
       "907"
      ]
     },
     "execution_count": 327,
     "metadata": {},
     "output_type": "execute_result"
    }
   ],
   "source": [
    "pred.filter(pred['stroke'] == 0).count()"
   ]
  },
  {
   "cell_type": "code",
   "execution_count": 328,
   "id": "393b0a2d",
   "metadata": {
    "colab": {
     "base_uri": "https://localhost:8080/"
    },
    "executionInfo": {
     "elapsed": 5,
     "status": "ok",
     "timestamp": 1635949764285,
     "user": {
      "displayName": "Mahmoud mohey el-din",
      "photoUrl": "https://lh3.googleusercontent.com/a/default-user=s64",
      "userId": "13699406433670243851"
     },
     "user_tz": -120
    },
    "id": "66efa0c6",
    "outputId": "f3119e7e-8f86-47e4-c3c5-ec4e9c942cdd"
   },
   "outputs": [
    {
     "data": {
      "text/plain": [
       "46"
      ]
     },
     "execution_count": 328,
     "metadata": {},
     "output_type": "execute_result"
    }
   ],
   "source": [
    "pred.filter(pred['stroke'] == 1).count()"
   ]
  },
  {
   "cell_type": "code",
   "execution_count": 329,
   "id": "91a85595",
   "metadata": {
    "colab": {
     "base_uri": "https://localhost:8080/"
    },
    "executionInfo": {
     "elapsed": 428,
     "status": "ok",
     "timestamp": 1635949764711,
     "user": {
      "displayName": "Mahmoud mohey el-din",
      "photoUrl": "https://lh3.googleusercontent.com/a/default-user=s64",
      "userId": "13699406433670243851"
     },
     "user_tz": -120
    },
    "id": "4e8c18b5",
    "outputId": "7b2b87ea-3bbd-46f8-fe03-f4d42c32bcfc"
   },
   "outputs": [
    {
     "data": {
      "text/plain": [
       "0.7838909927616124"
      ]
     },
     "execution_count": 329,
     "metadata": {},
     "output_type": "execute_result"
    }
   ],
   "source": [
    "evaluatorROC.evaluate(pred)"
   ]
  },
  {
   "cell_type": "markdown",
   "id": "78a7a9ee",
   "metadata": {
    "id": "e00e7b53"
   },
   "source": [
    "# GOOD LUCK\n",
    "<b><font color='GREEN'>AI-PRO Spark Team ITI</font></b>"
   ]
  }
 ],
 "metadata": {
  "colab": {
   "name": "Copy of Spark and Python for Big Data Final Exam.ipynb",
   "provenance": [
    {
     "file_id": "1mG_oytDS43U0xsAuU90PFh6wAbwoDCyi",
     "timestamp": 1635941140541
    }
   ]
  },
  "kernelspec": {
   "display_name": "Python 3 (ipykernel)",
   "language": "python",
   "name": "python3"
  },
  "language_info": {
   "codemirror_mode": {
    "name": "ipython",
    "version": 3
   },
   "file_extension": ".py",
   "mimetype": "text/x-python",
   "name": "python",
   "nbconvert_exporter": "python",
   "pygments_lexer": "ipython3",
   "version": "3.9.7"
  }
 },
 "nbformat": 4,
 "nbformat_minor": 5
}
